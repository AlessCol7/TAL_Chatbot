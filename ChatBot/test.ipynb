{
 "cells": [
  {
   "cell_type": "code",
   "execution_count": 1,
   "id": "1555aabe",
   "metadata": {},
   "outputs": [
    {
     "data": {
      "text/plain": [
       "True"
      ]
     },
     "execution_count": 1,
     "metadata": {},
     "output_type": "execute_result"
    }
   ],
   "source": [
    "from dotenv import load_dotenv, find_dotenv\n",
    "load_dotenv(find_dotenv())"
   ]
  },
  {
   "cell_type": "code",
   "execution_count": 2,
   "id": "d5d75e13",
   "metadata": {},
   "outputs": [
    {
     "data": {
      "text/plain": [
       "'pcsk_vpL3C_NXGzXyQowN4QmyvjLNMpAUX47RGcMvyXh8wLMyMjWTdD2SHWdhpMApmMg18Xma9'"
      ]
     },
     "execution_count": 2,
     "metadata": {},
     "output_type": "execute_result"
    }
   ],
   "source": [
    "import os\n",
    "\n",
    "os.environ[\"LANGSMITH_TRACING\"] = \"true\"\n",
    "os.environ[\"LANGSMITH_API_KEY\"]\n",
    "os.environ[\"WATSONX_APIKEY\"] \n",
    "os.environ[\"PINECONE_API_KEY\"]\n"
   ]
  },
  {
   "cell_type": "code",
   "execution_count": 3,
   "id": "d5b0db5c",
   "metadata": {},
   "outputs": [
    {
     "name": "stderr",
     "output_type": "stream",
     "text": [
      "/Users/sathvika/MCT/SEM-4/industry-project/TAL_Chatbot/.conda/lib/python3.11/site-packages/ibm_watsonx_ai/foundation_models/utils/utils.py:436: LifecycleWarning: Model 'meta-llama/llama-3-1-8b-instruct' is in deprecated state from 2025-01-22 until 2025-05-30. IDs of alternative models: llama-3-2-11b-vision-instruct. Further details: https://dataplatform.cloud.ibm.com/docs/content/wsj/analyze-data/fm-model-lifecycle.html?context=wx&audience=wdp\n",
      "  warn(model_state_warning, category=LifecycleWarning)\n"
     ]
    }
   ],
   "source": [
    "from langchain_ibm import ChatWatsonx\n",
    "\n",
    "model = ChatWatsonx(\n",
    "    model_id=\"meta-llama/llama-3-1-8b-instruct\",\n",
    "    url=\"https://eu-de.ml.cloud.ibm.com\",\n",
    "    project_id=\"aeabba3a-e8d1-4181-bcff-d0a1b639e896\"\n",
    ")"
   ]
  },
  {
   "cell_type": "code",
   "execution_count": 4,
   "id": "dbc33d28",
   "metadata": {},
   "outputs": [
    {
     "name": "stderr",
     "output_type": "stream",
     "text": [
      "/Users/sathvika/MCT/SEM-4/industry-project/TAL_Chatbot/.conda/lib/python3.11/site-packages/tqdm/auto.py:21: TqdmWarning: IProgress not found. Please update jupyter and ipywidgets. See https://ipywidgets.readthedocs.io/en/stable/user_install.html\n",
      "  from .autonotebook import tqdm as notebook_tqdm\n"
     ]
    }
   ],
   "source": [
    "# from langchain_ibm import WatsonxEmbeddings\n",
    "\n",
    "# embeddings = WatsonxEmbeddings(\n",
    "#     model_id=\"ibm/slate-125m-english-rtrvr\",\n",
    "#     url=\"https://eu-de.ml.cloud.ibm.com\",\n",
    "#     project_id=\"aeabba3a-e8d1-4181-bcff-d0a1b639e896\",\n",
    "# )\n",
    "\n",
    "from langchain_huggingface import HuggingFaceEmbeddings\n",
    "\n",
    "embeddings = HuggingFaceEmbeddings(model_name=\"hkunlp/instructor-large\")"
   ]
  },
  {
   "cell_type": "code",
   "execution_count": null,
   "id": "1cc400e6",
   "metadata": {},
   "outputs": [
    {
     "data": {
      "text/plain": [
       "768"
      ]
     },
     "execution_count": 5,
     "metadata": {},
     "output_type": "execute_result"
    }
   ],
   "source": [
    "vectors = embeddings.embed_query(\"How are you\")\n",
    "len(vectors)"
   ]
  },
  {
   "cell_type": "code",
   "execution_count": 6,
   "id": "e9962740",
   "metadata": {},
   "outputs": [],
   "source": [
    "from langchain_pinecone import PineconeVectorStore\n",
    "from pinecone import Pinecone\n",
    "\n",
    "pc = Pinecone(api_key=os.environ[\"PINECONE_API_KEY\"], \n",
    "              environment=\"us-east-1\")\n",
    "index_name = \"tal-chatbot\"\n",
    "index = pc.Index(index_name)\n",
    "\n",
    "vector_store = PineconeVectorStore(embedding=embeddings, index=index)"
   ]
  },
  {
   "cell_type": "markdown",
   "id": "63eb836c",
   "metadata": {},
   "source": [
    "Loading Documents\n"
   ]
  },
  {
   "cell_type": "code",
   "execution_count": 7,
   "id": "07e0204b",
   "metadata": {},
   "outputs": [],
   "source": [
    "from langchain_community.document_loaders import JSONLoader\n",
    "file_path = \"/Users/sathvika/MCT/SEM-4/industry-project/TAL_Chatbot/DataPrep/converters.json\"\n",
    "\n",
    "loader = JSONLoader(\n",
    "    file_path=file_path,\n",
    "    jq_schema='.[]',  # This will iterate over each item\n",
    "    text_content=False  # We'll use the entire object as content\n",
    ")\n",
    "\n",
    "documents = loader.load()\n"
   ]
  },
  {
   "cell_type": "code",
   "execution_count": 8,
   "id": "b434a5e6",
   "metadata": {},
   "outputs": [
    {
     "data": {
      "text/plain": [
       "65"
      ]
     },
     "execution_count": 8,
     "metadata": {},
     "output_type": "execute_result"
    }
   ],
   "source": [
    "len(documents)"
   ]
  },
  {
   "cell_type": "markdown",
   "id": "cf77259e",
   "metadata": {},
   "source": [
    "Uploading Embeddings\n"
   ]
  },
  {
   "cell_type": "code",
   "execution_count": 9,
   "id": "47117c69",
   "metadata": {},
   "outputs": [],
   "source": [
    "vectorstore = PineconeVectorStore.from_documents(\n",
    "    documents,\n",
    "    embedding=embeddings,\n",
    "    index_name=index_name\n",
    ")"
   ]
  },
  {
   "cell_type": "markdown",
   "id": "e14b8285",
   "metadata": {},
   "source": [
    "Consine Sim Retrieval"
   ]
  },
  {
   "cell_type": "code",
   "execution_count": 19,
   "id": "c843793a",
   "metadata": {},
   "outputs": [],
   "source": [
    "from langchain_core.prompts import ChatPromptTemplate\n",
    "\n",
    "custom_prompt = ChatPromptTemplate.from_messages([\n",
    "    (\"system\", \"\"\"You are a technical specification assistant. For any query about components:\n",
    "        1. List ALL matching items from context\n",
    "        2. Include full technical details\n",
    "        3. Present in markdown tables\n",
    "        4. Never omit specifications\"\"\"),\n",
    "            (\"human\", \"\"\"Context: {context}\n",
    "            \n",
    "        Question: {question}\n",
    "\n",
    "        Answer:\"\"\")\n",
    "])"
   ]
  },
  {
   "cell_type": "code",
   "execution_count": 20,
   "id": "ed63e4cb",
   "metadata": {},
   "outputs": [],
   "source": [
    "from langchain import hub\n",
    "import bs4\n",
    "from langchain import hub\n",
    "from langchain_community.document_loaders import WebBaseLoader\n",
    "from langchain_core.documents import Document\n",
    "from langchain_text_splitters import RecursiveCharacterTextSplitter\n",
    "from langgraph.graph import START, StateGraph\n",
    "from typing_extensions import List, TypedDict\n",
    "\n",
    "# Define prompt for question-answering\n",
    "prompt = hub.pull(\"rlm/rag-prompt\")\n",
    "\n",
    "\n",
    "# Define state for application\n",
    "class State(TypedDict):\n",
    "    question: str\n",
    "    context: List[Document]\n",
    "    answer: str\n",
    "\n",
    "\n",
    "# Define application steps\n",
    "def retrieve(state: State):\n",
    "    retrieved_docs = vector_store.similarity_search(state[\"question\"], k=100)\n",
    "    return {\"context\": retrieved_docs}\n",
    "\n",
    "\n",
    "def generate(state: State):\n",
    "    docs_content = \"\\n\\n\".join(doc.page_content for doc in state[\"context\"])\n",
    "    # messages = prompt.invoke({\"question\": state[\"question\"], \"context\": docs_content})\n",
    "    # response = model.invoke(messages)\n",
    "    # return {\"answer\": response.content}\n",
    "    messages = custom_prompt.invoke({\n",
    "        \"question\": state[\"question\"],\n",
    "        \"context\": docs_content\n",
    "    })\n",
    "    \n",
    "    response = model.invoke(messages)\n",
    "    return {\"answer\": response.content}\n",
    "\n",
    "# Compile application and test\n",
    "graph_builder = StateGraph(State).add_sequence([retrieve, generate])\n",
    "graph_builder.add_edge(START, \"retrieve\")\n",
    "graph = graph_builder.compile()"
   ]
  },
  {
   "cell_type": "code",
   "execution_count": 24,
   "id": "20f34f28",
   "metadata": {},
   "outputs": [
    {
     "name": "stdout",
     "output_type": "stream",
     "text": [
      "| **ARTNR** | **CONVERTER DESCRIPTION** | **DIMLIST TYPE** | **STRAIN RELIEF** | **LOCATION** | **DIMMABILITY** | **CCR (AMPLITUDE)** | **SIZE: L*B*H (mm)** | **EFFICIENCY @full load** | **IP** | **CLASS** | **NOM. INPUT VOLTAGE (V)** | **OUTPUT VOLTAGE (V)** | **lamps** |\n",
      "| --- | --- | --- | --- | --- | --- | --- | --- | --- | --- | --- | --- | --- | --- |\n",
      "| 930562 | POWERLED CONVERTER REMOTE 350mA 13,5W IP20 MAINS DIM LC 10% | dimlist R | YES | INDOOR | MAINS DIM LC 10% | YES | 109*53*25 | 0.84 | 20 | 2 | 198 - 264 | 18 - 38 | Single led XPE, Thinksmall/floorspot WC luxeon MX, *MIX 6 monocolor, Cedrus quantum, *MIX 6 halosphere, MIX 13 halosphere, ORBITAL monocolor, ORBITAL halosphere, Beaufort\\u00b2, Haloled, B4, MIX 26 monocolor, *BOA WC |\n"
     ]
    }
   ],
   "source": [
    "response = graph.invoke({\"question\": \"give me info on convertor 930562\"})\n",
    "print(response[\"answer\"])"
   ]
  },
  {
   "cell_type": "code",
   "execution_count": null,
   "id": "3b6d35fc",
   "metadata": {},
   "outputs": [],
   "source": []
  },
  {
   "cell_type": "markdown",
   "id": "f22fbb9e",
   "metadata": {},
   "source": []
  }
 ],
 "metadata": {
  "kernelspec": {
   "display_name": "Python 3",
   "language": "python",
   "name": "python3"
  },
  "language_info": {
   "codemirror_mode": {
    "name": "ipython",
    "version": 3
   },
   "file_extension": ".py",
   "mimetype": "text/x-python",
   "name": "python",
   "nbconvert_exporter": "python",
   "pygments_lexer": "ipython3",
   "version": "3.11.12"
  }
 },
 "nbformat": 4,
 "nbformat_minor": 5
}
